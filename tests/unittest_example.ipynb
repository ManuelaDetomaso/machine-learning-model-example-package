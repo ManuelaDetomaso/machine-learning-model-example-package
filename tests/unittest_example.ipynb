{
 "cells": [
  {
   "cell_type": "code",
   "execution_count": 1,
   "id": "9b012bf7",
   "metadata": {},
   "outputs": [],
   "source": [
    "def sum(a,b):\n",
    "    return a + b"
   ]
  },
  {
   "cell_type": "code",
   "execution_count": 2,
   "id": "9cdea7ca",
   "metadata": {},
   "outputs": [
    {
     "data": {
      "text/plain": [
       "5"
      ]
     },
     "execution_count": 2,
     "metadata": {},
     "output_type": "execute_result"
    }
   ],
   "source": [
    "sum(2,3)"
   ]
  },
  {
   "cell_type": "code",
   "execution_count": 3,
   "id": "45f062dd",
   "metadata": {},
   "outputs": [
    {
     "data": {
      "text/plain": [
       "'23'"
      ]
     },
     "execution_count": 3,
     "metadata": {},
     "output_type": "execute_result"
    }
   ],
   "source": [
    "sum(\"2\",\"3\")"
   ]
  },
  {
   "cell_type": "code",
   "execution_count": 2,
   "id": "04a8a02c",
   "metadata": {},
   "outputs": [
    {
     "data": {
      "text/plain": [
       "'FAIL'"
      ]
     },
     "execution_count": 2,
     "metadata": {},
     "output_type": "execute_result"
    }
   ],
   "source": [
    "def test_sum_works_as_expected():\n",
    "    try:\n",
    "        assert sum(\"2\",\"3\") == 5 # 5 is the expected result of 2 + 3\n",
    "        return \"SUCCESS\"\n",
    "    except:\n",
    "        return \"FAIL\"\n",
    "\n",
    "test_sum_works_as_expected() # because \"2\" + \"3\" = \"23\" in Python, not 5!"
   ]
  },
  {
   "cell_type": "code",
   "execution_count": 3,
   "id": "ed04c925",
   "metadata": {},
   "outputs": [],
   "source": [
    "def better_sum(a,b):\n",
    "    if isinstance(a, str) and isinstance(b, str):\n",
    "        a = int(a)\n",
    "        b = int(b)\n",
    "    return a + b"
   ]
  },
  {
   "cell_type": "code",
   "execution_count": 4,
   "id": "2ddcfa64",
   "metadata": {},
   "outputs": [
    {
     "data": {
      "text/plain": [
       "'SUCCESS'"
      ]
     },
     "execution_count": 4,
     "metadata": {},
     "output_type": "execute_result"
    }
   ],
   "source": [
    "def test_sum_works_as_expected():\n",
    "    try:\n",
    "        assert better_sum(\"2\",\"3\") == 5\n",
    "        return \"SUCCESS\"\n",
    "    except:\n",
    "        return \"FAIL\"\n",
    "\n",
    "test_sum_works_as_expected()"
   ]
  },
  {
   "cell_type": "code",
   "execution_count": 5,
   "id": "90f7d425",
   "metadata": {},
   "outputs": [
    {
     "data": {
      "text/plain": [
       "[1, 2, 3, 4]"
      ]
     },
     "execution_count": 5,
     "metadata": {},
     "output_type": "execute_result"
    }
   ],
   "source": [
    "better_sum([1,2],[3,4]) # this code won't throw an error, but it won't work as expected either"
   ]
  },
  {
   "cell_type": "code",
   "execution_count": 6,
   "id": "09082775",
   "metadata": {},
   "outputs": [
    {
     "data": {
      "text/plain": [
       "(1, 2, 3, 4)"
      ]
     },
     "execution_count": 6,
     "metadata": {},
     "output_type": "execute_result"
    }
   ],
   "source": [
    "better_sum((1,2),(3,4)) # this code won't throw an error, but it won't work as expected either"
   ]
  },
  {
   "cell_type": "code",
   "execution_count": 7,
   "id": "eb916047",
   "metadata": {},
   "outputs": [
    {
     "ename": "TypeError",
     "evalue": "unsupported operand type(s) for +: 'dict' and 'dict'",
     "output_type": "error",
     "traceback": [
      "\u001b[1;31m---------------------------------------------------------------------------\u001b[0m",
      "\u001b[1;31mTypeError\u001b[0m                                 Traceback (most recent call last)",
      "Cell \u001b[1;32mIn[7], line 1\u001b[0m\n\u001b[1;32m----> 1\u001b[0m better_sum({\u001b[38;5;241m1\u001b[39m: \u001b[38;5;124m'\u001b[39m\u001b[38;5;124ma\u001b[39m\u001b[38;5;124m'\u001b[39m}, {\u001b[38;5;241m2\u001b[39m: \u001b[38;5;124m'\u001b[39m\u001b[38;5;124mb\u001b[39m\u001b[38;5;124m'\u001b[39m})\n",
      "Cell \u001b[1;32mIn[3], line 5\u001b[0m, in \u001b[0;36mbetter_sum\u001b[1;34m(a, b)\u001b[0m\n\u001b[0;32m      3\u001b[0m     a \u001b[38;5;241m=\u001b[39m \u001b[38;5;28mint\u001b[39m(a)\n\u001b[0;32m      4\u001b[0m     b \u001b[38;5;241m=\u001b[39m \u001b[38;5;28mint\u001b[39m(b)\n\u001b[1;32m----> 5\u001b[0m \u001b[38;5;28;01mreturn\u001b[39;00m a \u001b[38;5;241m+\u001b[39m b\n",
      "\u001b[1;31mTypeError\u001b[0m: unsupported operand type(s) for +: 'dict' and 'dict'"
     ]
    }
   ],
   "source": [
    "better_sum({1: 'a'}, {2: 'b'}) # finally this code is throwing an error!"
   ]
  },
  {
   "cell_type": "code",
   "execution_count": null,
   "id": "c82532b7",
   "metadata": {},
   "outputs": [],
   "source": [
    "from typing import Union\n",
    "\n",
    "# THIS IS THE REFACTORED VERSION OF THE FUNCTION AFTER IMPROVING IT WITH UNIT TESTING!\n",
    "\n",
    "def even_better_sum(a: Union[int, str], b: Union[int, str]) -> int:\n",
    "    # Convert string digits to int\n",
    "    if isinstance(a, str):\n",
    "        if a.isdigit():\n",
    "            a = int(a)\n",
    "        else:\n",
    "            raise TypeError(\"Non-digit strings are not supported for 'a'\")\n",
    "    if isinstance(b, str):\n",
    "        if b.isdigit():\n",
    "            b = int(b)\n",
    "        else:\n",
    "            raise TypeError(\"Non-digit strings are not supported for 'b'\")\n",
    "    # if isinstance(a, dict) or isinstance(b, dict):  --> we don't need this check, because Python already throws an error when we try to add two dictionaries\n",
    "    #    raise TypeError(\"Dictionaries are not supported\")\n",
    "    # Disallow certain types\n",
    "    for value in (a, b):\n",
    "        if isinstance(value, (list, tuple)):\n",
    "            raise TypeError(f\"{type(value).__name__}s are not supported\")\n",
    "\n",
    "    return a + b\n",
    "\n"
   ]
  },
  {
   "cell_type": "code",
   "execution_count": 9,
   "id": "b89914ed",
   "metadata": {},
   "outputs": [
    {
     "data": {
      "text/plain": [
       "'SUCCESS'"
      ]
     },
     "execution_count": 9,
     "metadata": {},
     "output_type": "execute_result"
    }
   ],
   "source": [
    "def test_sum_works_as_expected_with_strings_or_integers():\n",
    "    try:\n",
    "        assert even_better_sum(2,3) == 5\n",
    "        assert even_better_sum(\"2\",\"3\") == 5\n",
    "        assert even_better_sum(2.5,3.5) == 6.0\n",
    "        return \"SUCCESS\"\n",
    "    except: \n",
    "        return \"FAIL\"  \n",
    "\n",
    "test_sum_works_as_expected()     "
   ]
  },
  {
   "cell_type": "code",
   "execution_count": 10,
   "id": "c254ef77",
   "metadata": {},
   "outputs": [
    {
     "data": {
      "text/plain": [
       "'SUCCESS'"
      ]
     },
     "execution_count": 10,
     "metadata": {},
     "output_type": "execute_result"
    }
   ],
   "source": [
    "import pytest\n",
    "\n",
    "def test_sum_raises_errors_for_lists_and_tuples():\n",
    "    invalid_inputs = [\n",
    "        ([1, 2], 3),\n",
    "        (3, [1, 2]),\n",
    "        ((1, 2), 3),\n",
    "        (3, (1, 2)),\n",
    "        ((1,), [2]),\n",
    "        ([1], (2,))\n",
    "    ]\n",
    "    try:\n",
    "        for a, b in invalid_inputs:\n",
    "            with pytest.raises(TypeError):\n",
    "                even_better_sum(a, b)\n",
    "        return \"SUCCESS\"\n",
    "    except:\n",
    "        return \"FAIL\"\n",
    "\n",
    "test_sum_raises_errors_for_lists_and_tuples()"
   ]
  },
  {
   "cell_type": "code",
   "execution_count": null,
   "id": "a5338d2a",
   "metadata": {},
   "outputs": [
    {
     "ename": "TypeError",
     "evalue": "tuples are not supported",
     "output_type": "error",
     "traceback": [
      "\u001b[1;31m---------------------------------------------------------------------------\u001b[0m",
      "\u001b[1;31mTypeError\u001b[0m                                 Traceback (most recent call last)",
      "Cell \u001b[1;32mIn[11], line 1\u001b[0m\n\u001b[1;32m----> 1\u001b[0m even_better_sum((\u001b[38;5;241m1\u001b[39m,\u001b[38;5;241m2\u001b[39m), (\u001b[38;5;241m3\u001b[39m,\u001b[38;5;241m4\u001b[39m))\n",
      "Cell \u001b[1;32mIn[8], line 21\u001b[0m, in \u001b[0;36meven_better_sum\u001b[1;34m(a, b)\u001b[0m\n\u001b[0;32m     19\u001b[0m \u001b[38;5;28;01mfor\u001b[39;00m value \u001b[38;5;129;01min\u001b[39;00m (a, b):\n\u001b[0;32m     20\u001b[0m     \u001b[38;5;28;01mif\u001b[39;00m \u001b[38;5;28misinstance\u001b[39m(value, (\u001b[38;5;28mlist\u001b[39m, \u001b[38;5;28mtuple\u001b[39m)):\n\u001b[1;32m---> 21\u001b[0m         \u001b[38;5;28;01mraise\u001b[39;00m \u001b[38;5;167;01mTypeError\u001b[39;00m(\u001b[38;5;124mf\u001b[39m\u001b[38;5;124m\"\u001b[39m\u001b[38;5;132;01m{\u001b[39;00m\u001b[38;5;28mtype\u001b[39m(value)\u001b[38;5;241m.\u001b[39m\u001b[38;5;18m__name__\u001b[39m\u001b[38;5;132;01m}\u001b[39;00m\u001b[38;5;124ms are not supported\u001b[39m\u001b[38;5;124m\"\u001b[39m)\n\u001b[0;32m     23\u001b[0m \u001b[38;5;28;01mreturn\u001b[39;00m a \u001b[38;5;241m+\u001b[39m b\n",
      "\u001b[1;31mTypeError\u001b[0m: tuples are not supported"
     ]
    }
   ],
   "source": [
    "even_better_sum((1,2), (3,4)) # this works perfectely, as it raises a TypeError for tuples that we don't want to support!"
   ]
  },
  {
   "cell_type": "code",
   "execution_count": null,
   "id": "746622cb",
   "metadata": {},
   "outputs": [],
   "source": []
  },
  {
   "cell_type": "markdown",
   "id": "a331960b",
   "metadata": {},
   "source": []
  }
 ],
 "metadata": {
  "kernelspec": {
   "display_name": "base",
   "language": "python",
   "name": "python3"
  },
  "language_info": {
   "codemirror_mode": {
    "name": "ipython",
    "version": 3
   },
   "file_extension": ".py",
   "mimetype": "text/x-python",
   "name": "python",
   "nbconvert_exporter": "python",
   "pygments_lexer": "ipython3",
   "version": "3.12.7"
  }
 },
 "nbformat": 4,
 "nbformat_minor": 5
}
