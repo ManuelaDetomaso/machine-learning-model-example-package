{
 "cells": [
  {
   "cell_type": "code",
   "execution_count": null,
   "metadata": {},
   "outputs": [
    {
     "name": "stdout",
     "output_type": "stream",
     "text": [
      "c:\\Users\\m679699\\OneDrive - myl\\Desktop\\ml-examplemodel-package\\pkg-test-env\\Lib\\site-packages\\diabete_prediction\\__init__.py\n"
     ]
    }
   ],
   "source": [
    "import diabete_prediction\n",
    "print(diabete_prediction.__file__)"
   ]
  },
  {
   "cell_type": "code",
   "execution_count": 3,
   "metadata": {},
   "outputs": [
    {
     "name": "stdout",
     "output_type": "stream",
     "text": [
      "c:\\Users\\m679699\\OneDrive - myl\\Desktop\\ml-examplemodel-package\\pkg-test-env\\Lib\\site-packages\\diabete_prediction\\config.ini\n",
      "c:\\Users\\m679699\\OneDrive - myl\\Desktop\\ml-examplemodel-package\\pkg-test-env\\Lib\\site-packages\\diabete_prediction\\config_loader.py\n",
      "c:\\Users\\m679699\\OneDrive - myl\\Desktop\\ml-examplemodel-package\\pkg-test-env\\Lib\\site-packages\\diabete_prediction\\prepare_training_data.py\n",
      "c:\\Users\\m679699\\OneDrive - myl\\Desktop\\ml-examplemodel-package\\pkg-test-env\\Lib\\site-packages\\diabete_prediction\\__init__.py\n",
      "c:\\Users\\m679699\\OneDrive - myl\\Desktop\\ml-examplemodel-package\\pkg-test-env\\Lib\\site-packages\\diabete_prediction\\__pycache__\n"
     ]
    }
   ],
   "source": [
    "import importlib.resources as resources\n",
    "for el in list(resources.files(\"diabete_prediction\").iterdir()):\n",
    "    print(el)"
   ]
  },
  {
   "cell_type": "code",
   "execution_count": 7,
   "metadata": {},
   "outputs": [
    {
     "name": "stdout",
     "output_type": "stream",
     "text": [
      "LOOKING IN: c:\\Users\\m679699\\OneDrive - myl\\Desktop\\ml-examplemodel-package\\pkg-test-env\\Lib\\site-packages\\diabete_prediction\n",
      "FILES: [WindowsPath('c:/Users/m679699/OneDrive - myl/Desktop/ml-examplemodel-package/pkg-test-env/Lib/site-packages/diabete_prediction/config.ini'), WindowsPath('c:/Users/m679699/OneDrive - myl/Desktop/ml-examplemodel-package/pkg-test-env/Lib/site-packages/diabete_prediction/config_loader.py'), WindowsPath('c:/Users/m679699/OneDrive - myl/Desktop/ml-examplemodel-package/pkg-test-env/Lib/site-packages/diabete_prediction/prepare_training_data.py'), WindowsPath('c:/Users/m679699/OneDrive - myl/Desktop/ml-examplemodel-package/pkg-test-env/Lib/site-packages/diabete_prediction/__init__.py'), WindowsPath('c:/Users/m679699/OneDrive - myl/Desktop/ml-examplemodel-package/pkg-test-env/Lib/site-packages/diabete_prediction/__pycache__')]\n"
     ]
    },
    {
     "data": {
      "text/plain": [
       "{'risk_colname': 'Risk',\n",
       " 'target_colname': 'Y',\n",
       " 'target_threshold': 211.5,\n",
       " 'expected_target_proportions': {'0': 0.75, '1': 0.25}}"
      ]
     },
     "execution_count": 7,
     "metadata": {},
     "output_type": "execute_result"
    }
   ],
   "source": [
    "from diabete_prediction.prepare_training_data import DataPreparator\n",
    "\n",
    "prep = DataPreparator()\n",
    "prep.config"
   ]
  },
  {
   "cell_type": "code",
   "execution_count": 8,
   "metadata": {},
   "outputs": [
    {
     "name": "stdout",
     "output_type": "stream",
     "text": [
      "Help on function prepare_data in module diabete_prediction.prepare_training_data:\n",
      "\n",
      "prepare_data(self, spark_df: pyspark.sql.dataframe.DataFrame) -> pandas.core.frame.DataFrame\n",
      "    Data cleaning and preparation\n",
      "\n",
      "    Args:\n",
      "        spark_df (DataFrame): input spark data\n",
      "\n",
      "    Returns:\n",
      "        pd.DataFrame: spark data converted to a pandas DataFrame\n",
      "\n"
     ]
    }
   ],
   "source": [
    "help(DataPreparator.prepare_data)"
   ]
  },
  {
   "cell_type": "code",
   "execution_count": null,
   "metadata": {},
   "outputs": [],
   "source": []
  }
 ],
 "metadata": {
  "kernelspec": {
   "display_name": "pkg-test-env",
   "language": "python",
   "name": "python3"
  },
  "language_info": {
   "codemirror_mode": {
    "name": "ipython",
    "version": 3
   },
   "file_extension": ".py",
   "mimetype": "text/x-python",
   "name": "python",
   "nbconvert_exporter": "python",
   "pygments_lexer": "ipython3",
   "version": "3.13.2"
  }
 },
 "nbformat": 4,
 "nbformat_minor": 2
}
