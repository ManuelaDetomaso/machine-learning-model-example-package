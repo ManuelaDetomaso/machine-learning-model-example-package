{
 "cells": [
  {
   "cell_type": "code",
   "execution_count": 1,
   "metadata": {},
   "outputs": [
    {
     "name": "stdout",
     "output_type": "stream",
     "text": [
      "c:\\Users\\m679699\\OneDrive - myl\\Desktop\\ml-examplemodel-package\\MLModelExample\\pkg-test-env\\Lib\\site-packages\\diabete_prediction\\__init__.py\n"
     ]
    }
   ],
   "source": [
    "import diabete_prediction\n",
    "print(diabete_prediction.__file__)"
   ]
  },
  {
   "cell_type": "code",
   "execution_count": 2,
   "metadata": {},
   "outputs": [
    {
     "name": "stdout",
     "output_type": "stream",
     "text": [
      "c:\\Users\\m679699\\OneDrive - myl\\Desktop\\ml-examplemodel-package\\MLModelExample\\pkg-test-env\\Lib\\site-packages\\diabete_prediction\\config.ini\n",
      "c:\\Users\\m679699\\OneDrive - myl\\Desktop\\ml-examplemodel-package\\MLModelExample\\pkg-test-env\\Lib\\site-packages\\diabete_prediction\\config_loader.py\n",
      "c:\\Users\\m679699\\OneDrive - myl\\Desktop\\ml-examplemodel-package\\MLModelExample\\pkg-test-env\\Lib\\site-packages\\diabete_prediction\\prepare_data.py\n",
      "c:\\Users\\m679699\\OneDrive - myl\\Desktop\\ml-examplemodel-package\\MLModelExample\\pkg-test-env\\Lib\\site-packages\\diabete_prediction\\score_data.py\n",
      "c:\\Users\\m679699\\OneDrive - myl\\Desktop\\ml-examplemodel-package\\MLModelExample\\pkg-test-env\\Lib\\site-packages\\diabete_prediction\\train_model.py\n",
      "c:\\Users\\m679699\\OneDrive - myl\\Desktop\\ml-examplemodel-package\\MLModelExample\\pkg-test-env\\Lib\\site-packages\\diabete_prediction\\utils.py\n",
      "c:\\Users\\m679699\\OneDrive - myl\\Desktop\\ml-examplemodel-package\\MLModelExample\\pkg-test-env\\Lib\\site-packages\\diabete_prediction\\__init__.py\n",
      "c:\\Users\\m679699\\OneDrive - myl\\Desktop\\ml-examplemodel-package\\MLModelExample\\pkg-test-env\\Lib\\site-packages\\diabete_prediction\\__pycache__\n"
     ]
    }
   ],
   "source": [
    "import importlib.resources as resources\n",
    "for el in list(resources.files(\"diabete_prediction\").iterdir()):\n",
    "    print(el)"
   ]
  },
  {
   "cell_type": "code",
   "execution_count": 3,
   "metadata": {},
   "outputs": [
    {
     "data": {
      "text/plain": [
       "{'AzureBlobStorage': {'blob_account_name': 'azureopendatastorage',\n",
       "  'blob_container_name': 'mlsamples',\n",
       "  'blob_relative_path': 'diabetes'},\n",
       " 'InputData': {'risk_colname': 'Risk',\n",
       "  'target_colname': 'Y',\n",
       "  'target_threshold': 211.5,\n",
       "  'expected_target_proportions': {'0': 0.75, '1': 0.25},\n",
       "  'feature_schema': [{'type': 'integer', 'name': 'AGE'},\n",
       "   {'type': 'integer', 'name': 'SEX'},\n",
       "   {'type': 'double', 'name': 'BMI'},\n",
       "   {'type': 'double', 'name': 'BP'},\n",
       "   {'type': 'integer', 'name': 'S1'},\n",
       "   {'type': 'double', 'name': 'S2'},\n",
       "   {'type': 'double', 'name': 'S3'},\n",
       "   {'type': 'double', 'name': 'S4'},\n",
       "   {'type': 'double', 'name': 'S5'},\n",
       "   {'type': 'integer', 'name': 'S6'}]},\n",
       " 'ModelTraining': {'test_size': 0.3, 'with_signature': True},\n",
       " 'ModelGeneral': {'experiment_name': 'prod-diabete'},\n",
       " 'OutputData': {'prepared_training_data_table_name': 'diabete_training_data',\n",
       "  'prepared_inference_data_table_name': 'diabete_inference_data',\n",
       "  'predictions_table_name': 'diabete_predictions'}}"
      ]
     },
     "execution_count": 3,
     "metadata": {},
     "output_type": "execute_result"
    }
   ],
   "source": [
    "from diabete_prediction.config_loader import load_config\n",
    "\n",
    "cfg = load_config()\n",
    "cfg"
   ]
  },
  {
   "cell_type": "code",
   "execution_count": 4,
   "metadata": {},
   "outputs": [
    {
     "data": {
      "text/plain": [
       "{'AzureBlobStorage': {'blob_account_name': 'azureopendatastorage',\n",
       "  'blob_container_name': 'mlsamples',\n",
       "  'blob_relative_path': 'diabetes'},\n",
       " 'InputData': {'risk_colname': 'Risk',\n",
       "  'target_colname': 'Y',\n",
       "  'target_threshold': 211.5,\n",
       "  'expected_target_proportions': {'0': 0.75, '1': 0.25},\n",
       "  'feature_schema': [{'type': 'integer', 'name': 'AGE'},\n",
       "   {'type': 'integer', 'name': 'SEX'},\n",
       "   {'type': 'double', 'name': 'BMI'},\n",
       "   {'type': 'double', 'name': 'BP'},\n",
       "   {'type': 'integer', 'name': 'S1'},\n",
       "   {'type': 'double', 'name': 'S2'},\n",
       "   {'type': 'double', 'name': 'S3'},\n",
       "   {'type': 'double', 'name': 'S4'},\n",
       "   {'type': 'double', 'name': 'S5'},\n",
       "   {'type': 'integer', 'name': 'S6'}]},\n",
       " 'ModelTraining': {'test_size': 0.3, 'with_signature': True},\n",
       " 'ModelGeneral': {'experiment_name': 'prod-diabete'},\n",
       " 'OutputData': {'prepared_training_data_table_name': 'diabete_training_data',\n",
       "  'prepared_inference_data_table_name': 'diabete_inference_data',\n",
       "  'predictions_table_name': 'diabete_predictions'}}"
      ]
     },
     "execution_count": 4,
     "metadata": {},
     "output_type": "execute_result"
    }
   ],
   "source": [
    "from diabete_prediction.prepare_data import DataPreparator\n",
    "\n",
    "prep = DataPreparator()\n",
    "prep.config"
   ]
  },
  {
   "cell_type": "code",
   "execution_count": 5,
   "metadata": {},
   "outputs": [
    {
     "name": "stdout",
     "output_type": "stream",
     "text": [
      "Help on function prepare_training_data in module diabete_prediction.prepare_data:\n",
      "\n",
      "prepare_training_data(self, spark_df: pyspark.sql.dataframe.DataFrame, save: bool = True) -> pandas.core.frame.DataFrame\n",
      "    Data cleaning and preparation\n",
      "\n",
      "    Args:\n",
      "        spark_df (DataFrame): input spark data\n",
      "\n",
      "    Returns:\n",
      "        pd.DataFrame: spark data converted to a pandas DataFrame\n",
      "\n"
     ]
    }
   ],
   "source": [
    "help(DataPreparator.prepare_training_data)"
   ]
  },
  {
   "cell_type": "code",
   "execution_count": 6,
   "metadata": {},
   "outputs": [
    {
     "name": "stdout",
     "output_type": "stream",
     "text": [
      "Help on function prepare_inference_data in module diabete_prediction.prepare_data:\n",
      "\n",
      "prepare_inference_data(self, df: pyspark.sql.dataframe.DataFrame, save: bool = True) -> pyspark.sql.dataframe.DataFrame\n",
      "    Cast inference data columns' types to the expected right data types\n",
      "\n",
      "    Args:\n",
      "        df (DataFrame): Input PySpark DataFrame.\n",
      "        save (bool, optional): save the prepared dataframe. Defaults to True.\n",
      "\n",
      "    Raises:\n",
      "        ValueError: Unsupported type '{col_type_str}' for column '{col_name}'\n",
      "\n",
      "    Returns:\n",
      "        DataFrame: PySpark DataFrame with casted columns.\n",
      "\n"
     ]
    }
   ],
   "source": [
    "help(DataPreparator.prepare_inference_data)"
   ]
  },
  {
   "cell_type": "code",
   "execution_count": 7,
   "metadata": {},
   "outputs": [
    {
     "data": {
      "text/plain": [
       "{'AzureBlobStorage': {'blob_account_name': 'azureopendatastorage',\n",
       "  'blob_container_name': 'mlsamples',\n",
       "  'blob_relative_path': 'diabetes'},\n",
       " 'InputData': {'risk_colname': 'Risk',\n",
       "  'target_colname': 'Y',\n",
       "  'target_threshold': 211.5,\n",
       "  'expected_target_proportions': {'0': 0.75, '1': 0.25},\n",
       "  'feature_schema': [{'type': 'integer', 'name': 'AGE'},\n",
       "   {'type': 'integer', 'name': 'SEX'},\n",
       "   {'type': 'double', 'name': 'BMI'},\n",
       "   {'type': 'double', 'name': 'BP'},\n",
       "   {'type': 'integer', 'name': 'S1'},\n",
       "   {'type': 'double', 'name': 'S2'},\n",
       "   {'type': 'double', 'name': 'S3'},\n",
       "   {'type': 'double', 'name': 'S4'},\n",
       "   {'type': 'double', 'name': 'S5'},\n",
       "   {'type': 'integer', 'name': 'S6'}]},\n",
       " 'ModelTraining': {'test_size': 0.3, 'with_signature': True},\n",
       " 'ModelGeneral': {'experiment_name': 'prod-diabete'},\n",
       " 'OutputData': {'prepared_training_data_table_name': 'diabete_training_data',\n",
       "  'prepared_inference_data_table_name': 'diabete_inference_data',\n",
       "  'predictions_table_name': 'diabete_predictions'}}"
      ]
     },
     "execution_count": 7,
     "metadata": {},
     "output_type": "execute_result"
    }
   ],
   "source": [
    "from diabete_prediction.train_model import ModelTrainer\n",
    "\n",
    "mod = ModelTrainer()\n",
    "mod.config"
   ]
  },
  {
   "cell_type": "code",
   "execution_count": 8,
   "metadata": {},
   "outputs": [
    {
     "name": "stdout",
     "output_type": "stream",
     "text": [
      "Help on function mlflow_training in module diabete_prediction.train_model:\n",
      "\n",
      "mlflow_training(self, experiment_name: str, X_train: pandas.core.frame.DataFrame, y_train: pandas.core.series.Series, model_type: str = 'regression', with_signature: bool = True, logs: bool = False, save_model=True)\n",
      "    Train an ML model and optionally log to MLflow\n",
      "\n"
     ]
    }
   ],
   "source": [
    "help(ModelTrainer.mlflow_training)"
   ]
  },
  {
   "cell_type": "code",
   "execution_count": 9,
   "metadata": {},
   "outputs": [
    {
     "data": {
      "text/plain": [
       "{'AzureBlobStorage': {'blob_account_name': 'azureopendatastorage',\n",
       "  'blob_container_name': 'mlsamples',\n",
       "  'blob_relative_path': 'diabetes'},\n",
       " 'InputData': {'risk_colname': 'Risk',\n",
       "  'target_colname': 'Y',\n",
       "  'target_threshold': 211.5,\n",
       "  'expected_target_proportions': {'0': 0.75, '1': 0.25},\n",
       "  'feature_schema': [{'type': 'integer', 'name': 'AGE'},\n",
       "   {'type': 'integer', 'name': 'SEX'},\n",
       "   {'type': 'double', 'name': 'BMI'},\n",
       "   {'type': 'double', 'name': 'BP'},\n",
       "   {'type': 'integer', 'name': 'S1'},\n",
       "   {'type': 'double', 'name': 'S2'},\n",
       "   {'type': 'double', 'name': 'S3'},\n",
       "   {'type': 'double', 'name': 'S4'},\n",
       "   {'type': 'double', 'name': 'S5'},\n",
       "   {'type': 'integer', 'name': 'S6'}]},\n",
       " 'ModelTraining': {'test_size': 0.3, 'with_signature': True},\n",
       " 'ModelGeneral': {'experiment_name': 'prod-diabete'},\n",
       " 'OutputData': {'prepared_training_data_table_name': 'diabete_training_data',\n",
       "  'prepared_inference_data_table_name': 'diabete_inference_data',\n",
       "  'predictions_table_name': 'diabete_predictions'}}"
      ]
     },
     "execution_count": 9,
     "metadata": {},
     "output_type": "execute_result"
    }
   ],
   "source": [
    "from diabete_prediction.score_data import ModelScorer\n",
    "\n",
    "sco = ModelScorer()\n",
    "sco.config"
   ]
  },
  {
   "cell_type": "code",
   "execution_count": 10,
   "metadata": {},
   "outputs": [
    {
     "name": "stdout",
     "output_type": "stream",
     "text": [
      "Help on method generate_predictions_dataframe in module diabete_prediction.score_data:\n",
      "\n",
      "generate_predictions_dataframe(df_inference: pyspark.sql.dataframe.DataFrame, experiment_name, model_type='regression', model_version=None, save=True) -> pyspark.sql.dataframe.DataFrame method of diabete_prediction.score_data.ModelScorer instance\n",
      "    Generate predictions using the trained model and optionally save them.\n",
      "\n",
      "    Args:\n",
      "        df_inference (DataFrame): Input PySpark DataFrame with features\n",
      "        experiment_name (str): MLflow experiment name (used to construct model URI), use:\n",
      "            config[\"ModelGeneral\"][\"experiment\"]\n",
      "        model_type (str): Model type (regression or classification_binary)\n",
      "        model_version (None): Version of the registered model, if None, the last version is retrieved\n",
      "        save (bool): Whether to save the resulting DataFrame to a Delta table\n",
      "\n",
      "    Returns:\n",
      "        DataFrame: DataFrame with predictions column added\n",
      "\n"
     ]
    }
   ],
   "source": [
    "help(sco.generate_predictions_dataframe)"
   ]
  },
  {
   "cell_type": "code",
   "execution_count": 11,
   "metadata": {},
   "outputs": [
    {
     "name": "stdout",
     "output_type": "stream",
     "text": [
      "Help on method get_model_versions_by_experiment_prefix in module diabete_prediction.score_data:\n",
      "\n",
      "get_model_versions_by_experiment_prefix(prefix: str, return_latest_only: bool = False, max_runs_per_experiment: int = 100) -> Dict[str, List[Dict]] method of diabete_prediction.score_data.ModelScorer instance\n",
      "    Returns model versions associated with experiments starting with a given prefix.\n",
      "\n",
      "    Args:\n",
      "        prefix (str): Prefix to match experiment names.\n",
      "        return_latest_only (bool): If True, returns only the latest model version per experiment.\n",
      "        max_runs_per_experiment (int): Max number of recent runs to check per experiment.\n",
      "\n",
      "    Returns:\n",
      "        Dict[str, List[Dict]]: Dict mapping experiment name to list of model versions found.\n",
      "\n"
     ]
    }
   ],
   "source": [
    "help(sco.get_model_versions_by_experiment_prefix)"
   ]
  },
  {
   "cell_type": "code",
   "execution_count": 12,
   "metadata": {},
   "outputs": [
    {
     "name": "stdout",
     "output_type": "stream",
     "text": [
      "✅ parse_value loaded: <function parse_value at 0x000002A576218040>\n"
     ]
    }
   ],
   "source": [
    "from diabete_prediction.utils import parse_value\n",
    "\n",
    "print(\"✅ parse_value loaded:\", parse_value)"
   ]
  },
  {
   "cell_type": "code",
   "execution_count": null,
   "metadata": {},
   "outputs": [],
   "source": []
  }
 ],
 "metadata": {
  "kernelspec": {
   "display_name": "pkg-test-env",
   "language": "python",
   "name": "python3"
  },
  "language_info": {
   "codemirror_mode": {
    "name": "ipython",
    "version": 3
   },
   "file_extension": ".py",
   "mimetype": "text/x-python",
   "name": "python",
   "nbconvert_exporter": "python",
   "pygments_lexer": "ipython3",
   "version": "3.11.8"
  }
 },
 "nbformat": 4,
 "nbformat_minor": 2
}
